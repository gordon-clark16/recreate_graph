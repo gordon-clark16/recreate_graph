{
  "nbformat": 4,
  "nbformat_minor": 0,
  "metadata": {
    "colab": {
      "name": "Recreate_GraphPt2.ipynb",
      "provenance": [],
      "authorship_tag": "ABX9TyMHDuSadbixbSIj9uAx9X20"
    },
    "kernelspec": {
      "name": "python3",
      "display_name": "Python 3"
    },
    "language_info": {
      "name": "python"
    }
  },
  "cells": [
    {
      "cell_type": "code",
      "metadata": {
        "colab": {
          "base_uri": "https://localhost:8080/"
        },
        "id": "MNfPWTWH9oBV",
        "outputId": "7855d7d1-97ef-4cef-a583-927c0e22d316"
      },
      "source": [
        "from google.colab import drive\n",
        "drive.mount('/content/drive')"
      ],
      "execution_count": null,
      "outputs": [
        {
          "output_type": "stream",
          "name": "stdout",
          "text": [
            "Drive already mounted at /content/drive; to attempt to forcibly remount, call drive.mount(\"/content/drive\", force_remount=True).\n"
          ]
        }
      ]
    },
    {
      "cell_type": "code",
      "metadata": {
        "id": "XnefdCA697IF"
      },
      "source": [
        "import pandas as pd\n",
        "import matplotlib.pyplot as plt\n",
        "import seaborn as sns"
      ],
      "execution_count": null,
      "outputs": []
    },
    {
      "cell_type": "code",
      "metadata": {
        "colab": {
          "base_uri": "https://localhost:8080/",
          "height": 220
        },
        "id": "5RrrnxD2-NbA",
        "outputId": "2f0fcb9e-f8dc-44ce-920d-d4ba0114adf5"
      },
      "source": [
        "mortgages = '/content/drive/MyDrive/Coding Dojo/Raw Data/mortgages.csv'\n",
        "mortgage_df = pd.read_csv(mortgages)\n",
        "mortgage_df.head()"
      ],
      "execution_count": null,
      "outputs": [
        {
          "output_type": "execute_result",
          "data": {
            "text/html": [
              "<div>\n",
              "<style scoped>\n",
              "    .dataframe tbody tr th:only-of-type {\n",
              "        vertical-align: middle;\n",
              "    }\n",
              "\n",
              "    .dataframe tbody tr th {\n",
              "        vertical-align: top;\n",
              "    }\n",
              "\n",
              "    .dataframe thead th {\n",
              "        text-align: right;\n",
              "    }\n",
              "</style>\n",
              "<table border=\"1\" class=\"dataframe\">\n",
              "  <thead>\n",
              "    <tr style=\"text-align: right;\">\n",
              "      <th></th>\n",
              "      <th>Month</th>\n",
              "      <th>Starting Balance</th>\n",
              "      <th>Repayment</th>\n",
              "      <th>Interest Paid</th>\n",
              "      <th>Principal Paid</th>\n",
              "      <th>New Balance</th>\n",
              "      <th>Mortgage Name</th>\n",
              "      <th>Interest Rate</th>\n",
              "    </tr>\n",
              "  </thead>\n",
              "  <tbody>\n",
              "    <tr>\n",
              "      <th>0</th>\n",
              "      <td>1</td>\n",
              "      <td>400000.00</td>\n",
              "      <td>1686.42</td>\n",
              "      <td>1000.00</td>\n",
              "      <td>686.42</td>\n",
              "      <td>399313.58</td>\n",
              "      <td>30 Year</td>\n",
              "      <td>0.03</td>\n",
              "    </tr>\n",
              "    <tr>\n",
              "      <th>1</th>\n",
              "      <td>2</td>\n",
              "      <td>399313.58</td>\n",
              "      <td>1686.42</td>\n",
              "      <td>998.28</td>\n",
              "      <td>688.14</td>\n",
              "      <td>398625.44</td>\n",
              "      <td>30 Year</td>\n",
              "      <td>0.03</td>\n",
              "    </tr>\n",
              "    <tr>\n",
              "      <th>2</th>\n",
              "      <td>3</td>\n",
              "      <td>398625.44</td>\n",
              "      <td>1686.42</td>\n",
              "      <td>996.56</td>\n",
              "      <td>689.86</td>\n",
              "      <td>397935.58</td>\n",
              "      <td>30 Year</td>\n",
              "      <td>0.03</td>\n",
              "    </tr>\n",
              "    <tr>\n",
              "      <th>3</th>\n",
              "      <td>4</td>\n",
              "      <td>397935.58</td>\n",
              "      <td>1686.42</td>\n",
              "      <td>994.83</td>\n",
              "      <td>691.59</td>\n",
              "      <td>397243.99</td>\n",
              "      <td>30 Year</td>\n",
              "      <td>0.03</td>\n",
              "    </tr>\n",
              "    <tr>\n",
              "      <th>4</th>\n",
              "      <td>5</td>\n",
              "      <td>397243.99</td>\n",
              "      <td>1686.42</td>\n",
              "      <td>993.10</td>\n",
              "      <td>693.32</td>\n",
              "      <td>396550.67</td>\n",
              "      <td>30 Year</td>\n",
              "      <td>0.03</td>\n",
              "    </tr>\n",
              "  </tbody>\n",
              "</table>\n",
              "</div>"
            ],
            "text/plain": [
              "   Month  Starting Balance  Repayment  ...  New Balance  Mortgage Name  Interest Rate\n",
              "0      1         400000.00    1686.42  ...    399313.58        30 Year           0.03\n",
              "1      2         399313.58    1686.42  ...    398625.44        30 Year           0.03\n",
              "2      3         398625.44    1686.42  ...    397935.58        30 Year           0.03\n",
              "3      4         397935.58    1686.42  ...    397243.99        30 Year           0.03\n",
              "4      5         397243.99    1686.42  ...    396550.67        30 Year           0.03\n",
              "\n",
              "[5 rows x 8 columns]"
            ]
          },
          "metadata": {},
          "execution_count": 4
        }
      ]
    },
    {
      "cell_type": "code",
      "metadata": {
        "colab": {
          "base_uri": "https://localhost:8080/"
        },
        "id": "fkqQ_cWd_cAP",
        "outputId": "dfae1a11-585f-4a98-d481-012157be8250"
      },
      "source": [
        "mortgage_df.info()"
      ],
      "execution_count": null,
      "outputs": [
        {
          "output_type": "stream",
          "name": "stdout",
          "text": [
            "<class 'pandas.core.frame.DataFrame'>\n",
            "RangeIndex: 1080 entries, 0 to 1079\n",
            "Data columns (total 8 columns):\n",
            " #   Column            Non-Null Count  Dtype  \n",
            "---  ------            --------------  -----  \n",
            " 0   Month             1080 non-null   int64  \n",
            " 1   Starting Balance  1080 non-null   float64\n",
            " 2   Repayment         1080 non-null   float64\n",
            " 3   Interest Paid     1080 non-null   float64\n",
            " 4   Principal Paid    1080 non-null   float64\n",
            " 5   New Balance       1080 non-null   float64\n",
            " 6   Mortgage Name     1080 non-null   object \n",
            " 7   Interest Rate     1080 non-null   float64\n",
            "dtypes: float64(6), int64(1), object(1)\n",
            "memory usage: 67.6+ KB\n"
          ]
        }
      ]
    },
    {
      "cell_type": "code",
      "metadata": {
        "colab": {
          "base_uri": "https://localhost:8080/"
        },
        "id": "nC01uTyC-ezI",
        "outputId": "9cf04088-fc73-4436-87a8-465cf3c19e04"
      },
      "source": [
        "# Create a filter so the Mortgage Name is '30 year'. \n",
        "# Use len() to find how many rows correspond to 30 years.\n",
        "length_filter = mortgage_df['Mortgage Name'] == '30 Year'\n",
        "len(mortgage_df[length_filter])"
      ],
      "execution_count": null,
      "outputs": [
        {
          "output_type": "execute_result",
          "data": {
            "text/plain": [
              "720"
            ]
          },
          "metadata": {},
          "execution_count": 6
        }
      ]
    },
    {
      "cell_type": "code",
      "metadata": {
        "colab": {
          "base_uri": "https://localhost:8080/"
        },
        "id": "-FlwrMsM_LFy",
        "outputId": "f58b42d3-35f3-451d-f8b8-72396af1b579"
      },
      "source": [
        "# Create a filter for an interest rate of 3%\n",
        "three_percent = mortgage_df['Interest Rate'] == 0.03\n",
        "mortgage_df[three_percent].info()"
      ],
      "execution_count": null,
      "outputs": [
        {
          "output_type": "stream",
          "name": "stdout",
          "text": [
            "<class 'pandas.core.frame.DataFrame'>\n",
            "Int64Index: 540 entries, 0 to 899\n",
            "Data columns (total 8 columns):\n",
            " #   Column            Non-Null Count  Dtype  \n",
            "---  ------            --------------  -----  \n",
            " 0   Month             540 non-null    int64  \n",
            " 1   Starting Balance  540 non-null    float64\n",
            " 2   Repayment         540 non-null    float64\n",
            " 3   Interest Paid     540 non-null    float64\n",
            " 4   Principal Paid    540 non-null    float64\n",
            " 5   New Balance       540 non-null    float64\n",
            " 6   Mortgage Name     540 non-null    object \n",
            " 7   Interest Rate     540 non-null    float64\n",
            "dtypes: float64(6), int64(1), object(1)\n",
            "memory usage: 38.0+ KB\n"
          ]
        }
      ]
    },
    {
      "cell_type": "code",
      "metadata": {
        "colab": {
          "base_uri": "https://localhost:8080/"
        },
        "id": "6CD9KLqaABIy",
        "outputId": "df7d7926-6bff-46b6-ef3a-2160e85134b8"
      },
      "source": [
        "# Define new dataframe based on both the year and interest filters you have created\n",
        "three_df = mortgage_df[length_filter & three_percent]\n",
        "three_df.info()"
      ],
      "execution_count": null,
      "outputs": [
        {
          "output_type": "stream",
          "name": "stdout",
          "text": [
            "<class 'pandas.core.frame.DataFrame'>\n",
            "Int64Index: 360 entries, 0 to 359\n",
            "Data columns (total 8 columns):\n",
            " #   Column            Non-Null Count  Dtype  \n",
            "---  ------            --------------  -----  \n",
            " 0   Month             360 non-null    int64  \n",
            " 1   Starting Balance  360 non-null    float64\n",
            " 2   Repayment         360 non-null    float64\n",
            " 3   Interest Paid     360 non-null    float64\n",
            " 4   Principal Paid    360 non-null    float64\n",
            " 5   New Balance       360 non-null    float64\n",
            " 6   Mortgage Name     360 non-null    object \n",
            " 7   Interest Rate     360 non-null    float64\n",
            "dtypes: float64(6), int64(1), object(1)\n",
            "memory usage: 25.3+ KB\n"
          ]
        }
      ]
    },
    {
      "cell_type": "code",
      "metadata": {
        "colab": {
          "base_uri": "https://localhost:8080/"
        },
        "id": "bz9cf1xBBCZ-",
        "outputId": "9d4cb78f-4bf9-445b-f5be-bad859894f82"
      },
      "source": [
        "# Create new filter for interest rate == 5%\n",
        "# Also created new df based on length_filter and 5% interest\n",
        "five_percent = mortgage_df['Interest Rate'] == 0.05\n",
        "five_df = mortgage_df[length_filter & five_percent]\n",
        "five_df.info()"
      ],
      "execution_count": null,
      "outputs": [
        {
          "output_type": "stream",
          "name": "stdout",
          "text": [
            "<class 'pandas.core.frame.DataFrame'>\n",
            "Int64Index: 360 entries, 360 to 719\n",
            "Data columns (total 8 columns):\n",
            " #   Column            Non-Null Count  Dtype  \n",
            "---  ------            --------------  -----  \n",
            " 0   Month             360 non-null    int64  \n",
            " 1   Starting Balance  360 non-null    float64\n",
            " 2   Repayment         360 non-null    float64\n",
            " 3   Interest Paid     360 non-null    float64\n",
            " 4   Principal Paid    360 non-null    float64\n",
            " 5   New Balance       360 non-null    float64\n",
            " 6   Mortgage Name     360 non-null    object \n",
            " 7   Interest Rate     360 non-null    float64\n",
            "dtypes: float64(6), int64(1), object(1)\n",
            "memory usage: 25.3+ KB\n"
          ]
        }
      ]
    },
    {
      "cell_type": "code",
      "metadata": {
        "colab": {
          "base_uri": "https://localhost:8080/"
        },
        "id": "iTZrepLsBqha",
        "outputId": "17732128-a0d4-4b81-cfa3-9ebfddf627d9"
      },
      "source": [
        "# What are the first 3 values in the output for cumsum of the 3% rate?\n",
        "three_df['Interest Paid'].cumsum().head(3)"
      ],
      "execution_count": null,
      "outputs": [
        {
          "output_type": "execute_result",
          "data": {
            "text/plain": [
              "0    1000.00\n",
              "1    1998.28\n",
              "2    2994.84\n",
              "Name: Interest Paid, dtype: float64"
            ]
          },
          "metadata": {},
          "execution_count": 10
        }
      ]
    },
    {
      "cell_type": "code",
      "metadata": {
        "colab": {
          "base_uri": "https://localhost:8080/",
          "height": 265
        },
        "id": "GcdCY4C3CGcC",
        "outputId": "875549c8-b17a-477f-827a-236d1297787a"
      },
      "source": [
        "# Use plt.plot(x, y, c=color) to plot the black line 5%\n",
        "x = five_df['Month']\n",
        "y = five_df['Interest Paid'].cumsum()\n",
        "plt.plot(x, y, c = 'k');"
      ],
      "execution_count": null,
      "outputs": [
        {
          "output_type": "display_data",
          "data": {
            "image/png": "[encoded data removed]",
            "text/plain": [
              "<Figure size 432x288 with 1 Axes>"
            ]
          },
          "metadata": {
            "needs_background": "light"
          }
        }
      ]
    },
    {
      "cell_type": "code",
      "metadata": {
        "colab": {
          "base_uri": "https://localhost:8080/",
          "height": 265
        },
        "id": "3rxSTYfZDIm6",
        "outputId": "63a404c8-7416-48d5-db75-5dd1eaeac8c8"
      },
      "source": [
        "# to get both lines on same graph, put 2 plt.plot() functions one ater the other\n",
        "# in the same code block\n",
        "plt.plot( five_df['Month'], five_df['Interest Paid'].cumsum(), c = 'k')\n",
        "plt.plot( three_df['Month'], three_df['Interest Paid'].cumsum(), c = 'b');"
      ],
      "execution_count": null,
      "outputs": [
        {
          "output_type": "display_data",
          "data": {
            "image/png": "[encoded data removed]",
            "text/plain": [
              "<Figure size 432x288 with 1 Axes>"
            ]
          },
          "metadata": {
            "needs_background": "light"
          }
        }
      ]
    },
    {
      "cell_type": "markdown",
      "metadata": {
        "id": "o4KEcqUVa3a6"
      },
      "source": [
        "Above is part 1"
      ]
    },
    {
      "cell_type": "markdown",
      "metadata": {
        "id": "rbgMB9I9a6pd"
      },
      "source": [
        "Now we build on that for part 2"
      ]
    },
    {
      "cell_type": "code",
      "metadata": {
        "id": "HEcPmAjUEXnp",
        "colab": {
          "base_uri": "https://localhost:8080/",
          "height": 358
        },
        "outputId": "0d392ebc-f755-448d-d4c6-e1478406f585"
      },
      "source": [
        "plt.figure(figsize = (10,5))\n",
        "plt.plot(five_df['Month'], five_df['Interest Paid'].cumsum(), c = 'k', label = '30 Year 5% APR')\n",
        "plt.plot(three_df['Month'], three_df['Interest Paid'].cumsum(), c = 'b', label = '30 Year 3% APR')\n",
        "plt.grid(c = 'k', alpha = .3)\n",
        "plt.legend(loc = 'lower right')\n",
        "plt.ylim(bottom = 0, top = 400000)\n",
        "plt.xlim(left = 0, right = 360)\n",
        "plt.xticks(fontsize = 15)\n",
        "plt.yticks(fontsize = 15)\n",
        "plt.xlabel('Month', fontsize = 15)\n",
        "plt.ylabel('Dollars', fontsize = 15)\n",
        "plt.title('Cumulative Interest Paid', fontsize = 15)\n",
        "plt.show()\n"
      ],
      "execution_count": null,
      "outputs": [
        {
          "output_type": "display_data",
          "data": {
            "image/png": "[encoded data removed]",
            "text/plain": [
              "<Figure size 720x360 with 1 Axes>"
            ]
          },
          "metadata": {
            "needs_background": "light"
          }
        }
      ]
    },
    {
      "cell_type": "code",
      "metadata": {
        "id": "nDFLmvEKbq-0"
      },
      "source": [
        ""
      ],
      "execution_count": null,
      "outputs": []
    }
  ]
}